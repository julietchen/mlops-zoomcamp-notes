{
 "cells": [
  {
   "cell_type": "markdown",
   "id": "2b14c807-0ccf-4b88-8f3f-dc6d9cd372e6",
   "metadata": {},
   "source": [
    "# module 1 - homework\n",
    "\n",
    "[homework problems](https://github.com/DataTalksClub/mlops-zoomcamp/blob/main/cohorts/2024/01-intro/homework.md)"
   ]
  },
  {
   "cell_type": "markdown",
   "id": "3b576236-f6fb-4a39-81bf-2c19989bbe67",
   "metadata": {},
   "source": [
    "## imports"
   ]
  },
  {
   "cell_type": "code",
   "execution_count": 1,
   "id": "880a1dcd-a655-4280-a350-5d6bb1c910e0",
   "metadata": {},
   "outputs": [],
   "source": [
    "import pandas as pd\n",
    "\n",
    "from sklearn.feature_extraction import DictVectorizer\n",
    "\n",
    "from sklearn.linear_model import LinearRegression\n",
    "from sklearn.linear_model import Lasso\n",
    "from sklearn.linear_model import Ridge\n",
    "\n",
    "from sklearn.metrics import mean_squared_error\n",
    "from sklearn.metrics import root_mean_squared_error"
   ]
  },
  {
   "cell_type": "code",
   "execution_count": 2,
   "id": "a41ccba1-cad6-49b9-ae79-e23961dc40bd",
   "metadata": {},
   "outputs": [],
   "source": [
    "import seaborn as sns"
   ]
  },
  {
   "cell_type": "code",
   "execution_count": 3,
   "id": "1dd7957d-2fb6-4da6-89e6-dc1961a0d085",
   "metadata": {},
   "outputs": [],
   "source": [
    "def read_dataframe(filename):\n",
    "    if filename.endswith('.csv'):\n",
    "        df = pd.read_csv(filename)\n",
    "\n",
    "        df.lpep_dropoff_datetime = pd.to_datetime(df.lpep_dropoff_datetime)\n",
    "        df.lpep_pickup_datetime = pd.to_datetime(df.lpep_pickup_datetime)\n",
    "    elif filename.endswith('.parquet'):\n",
    "        df = pd.read_parquet(filename)\n",
    "\n",
    "    df['duration'] = df.tpep_dropoff_datetime - df.tpep_pickup_datetime\n",
    "    df.duration = df.duration.apply(lambda td: td.total_seconds() / 60)\n",
    "\n",
    "    df = df[(df.duration >= 1) & (df.duration <= 60)]\n",
    "\n",
    "    categorical = ['PULocationID', 'DOLocationID']\n",
    "    df[categorical] = df[categorical].astype(str)\n",
    "    \n",
    "    return df"
   ]
  },
  {
   "cell_type": "markdown",
   "id": "be3c0696-3c89-4c3a-9bd5-4ee9dc1c2711",
   "metadata": {},
   "source": [
    "## Q1 - download the data\n",
    "We'll use the same NYC taxi dataset, but instead of \"Green Taxi Trip Records\", we'll use \"Yellow Taxi Trip Records\". Download the data for January and February 2023.\n",
    "\n",
    "Read the data for January. How many columns are there?\n",
    "\n",
    "**Answer**: 19"
   ]
  },
  {
   "cell_type": "code",
   "execution_count": 4,
   "id": "103e2aa0-81b8-48e0-b35b-5736de270197",
   "metadata": {},
   "outputs": [],
   "source": [
    "df_jan = pd.read_parquet('../data/yellow_tripdata_2023-01.parquet')"
   ]
  },
  {
   "cell_type": "code",
   "execution_count": 5,
   "id": "cfd306be-e8e7-495a-8aee-31add67b0ef3",
   "metadata": {},
   "outputs": [
    {
     "data": {
      "text/plain": [
       "Index(['VendorID', 'tpep_pickup_datetime', 'tpep_dropoff_datetime',\n",
       "       'passenger_count', 'trip_distance', 'RatecodeID', 'store_and_fwd_flag',\n",
       "       'PULocationID', 'DOLocationID', 'payment_type', 'fare_amount', 'extra',\n",
       "       'mta_tax', 'tip_amount', 'tolls_amount', 'improvement_surcharge',\n",
       "       'total_amount', 'congestion_surcharge', 'airport_fee'],\n",
       "      dtype='object')"
      ]
     },
     "execution_count": 5,
     "metadata": {},
     "output_type": "execute_result"
    }
   ],
   "source": [
    "df_jan.columns"
   ]
  },
  {
   "cell_type": "code",
   "execution_count": 6,
   "id": "fc61c03a-bacf-4c12-8902-865b81c2ce54",
   "metadata": {},
   "outputs": [
    {
     "data": {
      "text/plain": [
       "(3066766, 19)"
      ]
     },
     "execution_count": 6,
     "metadata": {},
     "output_type": "execute_result"
    }
   ],
   "source": [
    "df_jan.shape"
   ]
  },
  {
   "cell_type": "markdown",
   "id": "926e1f25-d213-4525-9159-ab43d29141bc",
   "metadata": {},
   "source": [
    "## Q2 - computing duration\n",
    "\n",
    "Now let's compute the duration variable. It should contain the duration of a ride in minutes.\n",
    "\n",
    "What's the standard deviation of the trips duration in January?\n",
    "\n",
    "**Answer:** 42.59"
   ]
  },
  {
   "cell_type": "code",
   "execution_count": 7,
   "id": "001a5bc5-2ea3-4c89-92fd-c43dd33cf717",
   "metadata": {
    "scrolled": true
   },
   "outputs": [
    {
     "data": {
      "text/plain": [
       "0   0 days 00:08:26\n",
       "1   0 days 00:06:19\n",
       "2   0 days 00:12:45\n",
       "3   0 days 00:09:37\n",
       "4   0 days 00:10:50\n",
       "Name: duration, dtype: timedelta64[us]"
      ]
     },
     "execution_count": 7,
     "metadata": {},
     "output_type": "execute_result"
    }
   ],
   "source": [
    "# creates an object Timedelta of dtype '<m8[us]'\n",
    "df_jan['duration'] = df_jan['tpep_dropoff_datetime'] - df_jan['tpep_pickup_datetime']\n",
    "\n",
    "df_jan.duration.head()"
   ]
  },
  {
   "cell_type": "code",
   "execution_count": 8,
   "id": "43abc2ae-b172-47c0-87ec-0f28fa9f70f6",
   "metadata": {},
   "outputs": [
    {
     "data": {
      "text/plain": [
       "dtype('<m8[us]')"
      ]
     },
     "execution_count": 8,
     "metadata": {},
     "output_type": "execute_result"
    }
   ],
   "source": [
    "df_jan.duration.dtype"
   ]
  },
  {
   "cell_type": "code",
   "execution_count": 9,
   "id": "915323ad-a629-45cf-8d35-b9ab0aec57bf",
   "metadata": {},
   "outputs": [
    {
     "data": {
      "text/plain": [
       "Timedelta('0 days 00:08:26')"
      ]
     },
     "execution_count": 9,
     "metadata": {},
     "output_type": "execute_result"
    }
   ],
   "source": [
    "df_jan.duration[0]"
   ]
  },
  {
   "cell_type": "code",
   "execution_count": 10,
   "id": "d45dcb54-55fc-4631-aeb7-81144a69f6a7",
   "metadata": {},
   "outputs": [
    {
     "data": {
      "text/plain": [
       "506.0"
      ]
     },
     "execution_count": 10,
     "metadata": {},
     "output_type": "execute_result"
    }
   ],
   "source": [
    "df_jan.duration[0].total_seconds()"
   ]
  },
  {
   "cell_type": "code",
   "execution_count": 11,
   "id": "65bd774c-de0a-4d85-b91f-39e39d19b121",
   "metadata": {},
   "outputs": [],
   "source": [
    "# convert duration to minutes\n",
    "df_jan.duration = df_jan.duration.apply(lambda td: td.total_seconds() / 60)"
   ]
  },
  {
   "cell_type": "code",
   "execution_count": 12,
   "id": "3ae160b4-9b5a-43b0-9778-e7addd62d037",
   "metadata": {},
   "outputs": [
    {
     "data": {
      "text/plain": [
       "42.59435124195458"
      ]
     },
     "execution_count": 12,
     "metadata": {},
     "output_type": "execute_result"
    }
   ],
   "source": [
    "df_jan.duration.std()"
   ]
  },
  {
   "cell_type": "markdown",
   "id": "b933d17d-0a87-45e5-82f1-0d7a3fab2651",
   "metadata": {},
   "source": [
    "## Q3 - dropping outliers\n",
    "\n",
    "Next, we need to check the distribution of the duration variable. There are some outliers. Let's remove them and keep only the records where the duration was between 1 and 60 minutes (inclusive).\n",
    "\n",
    "What fraction of the records left after you dropped the outliers?\n",
    "\n",
    "**Answer:** 98%"
   ]
  },
  {
   "cell_type": "code",
   "execution_count": 13,
   "id": "35da823d-92ba-4de6-b7bc-b03252611220",
   "metadata": {},
   "outputs": [
    {
     "name": "stderr",
     "output_type": "stream",
     "text": [
      "/var/folders/jf/vw7y3m5s06g4gmn06dj1m0x80000gn/T/ipykernel_16036/1995654764.py:1: UserWarning: \n",
      "\n",
      "`distplot` is a deprecated function and will be removed in seaborn v0.14.0.\n",
      "\n",
      "Please adapt your code to use either `displot` (a figure-level function with\n",
      "similar flexibility) or `histplot` (an axes-level function for histograms).\n",
      "\n",
      "For a guide to updating your code to use the new functions, please see\n",
      "https://gist.github.com/mwaskom/de44147ed2974457ad6372750bbe5751\n",
      "\n",
      "  sns.distplot(df_jan.duration)\n"
     ]
    },
    {
     "data": {
      "text/plain": [
       "<Axes: xlabel='duration', ylabel='Density'>"
      ]
     },
     "execution_count": 13,
     "metadata": {},
     "output_type": "execute_result"
    },
    {
     "data": {
      "image/png": "[encoded data removed]",
      "text/plain": [
       "<Figure size 640x480 with 1 Axes>"
      ]
     },
     "metadata": {},
     "output_type": "display_data"
    }
   ],
   "source": [
    "sns.distplot(df_jan.duration)"
   ]
  },
  {
   "cell_type": "code",
   "execution_count": 14,
   "id": "c394cda4-823e-463b-bea8-355d3b75f7df",
   "metadata": {},
   "outputs": [
    {
     "data": {
      "text/plain": [
       "count    3.066766e+06\n",
       "mean     1.566900e+01\n",
       "std      4.259435e+01\n",
       "min     -2.920000e+01\n",
       "50%      1.151667e+01\n",
       "95%      3.646667e+01\n",
       "98%      4.873333e+01\n",
       "99%      5.725000e+01\n",
       "max      1.002918e+04\n",
       "Name: duration, dtype: float64"
      ]
     },
     "execution_count": 14,
     "metadata": {},
     "output_type": "execute_result"
    }
   ],
   "source": [
    "df_jan.duration.describe(percentiles=[0.95, 0.98, 0.99])"
   ]
  },
  {
   "cell_type": "code",
   "execution_count": 15,
   "id": "375944af-cfe3-449a-852f-d9c67534b012",
   "metadata": {},
   "outputs": [
    {
     "data": {
      "text/plain": [
       "(3009173, 20)"
      ]
     },
     "execution_count": 15,
     "metadata": {},
     "output_type": "execute_result"
    }
   ],
   "source": [
    "# df = df[(df.duration >= 1) & (df.duration <= 60)]\n",
    "df_jan = df_jan[(df_jan.duration >= 1) & (df_jan.duration <= 60)]\n",
    "df_jan.shape"
   ]
  },
  {
   "cell_type": "code",
   "execution_count": 16,
   "id": "6d7280af-fec3-4924-b99c-8ce9255e76a2",
   "metadata": {},
   "outputs": [
    {
     "data": {
      "text/plain": [
       "98.1220282212598"
      ]
     },
     "execution_count": 16,
     "metadata": {},
     "output_type": "execute_result"
    }
   ],
   "source": [
    "# percentage of records kept\n",
    "(3009173 / 3066766) * 100"
   ]
  },
  {
   "cell_type": "markdown",
   "id": "c6b1abc6-d652-426f-8c47-b5920e91a998",
   "metadata": {},
   "source": [
    "## Q4 - one-hot encoding\n",
    "Let's apply one-hot encoding to the pickup and dropoff location IDs. We'll use only these two features for our model.\n",
    "\n",
    "Turn the dataframe into a list of dictionaries (remember to re-cast the ids to strings - otherwise it will label encode them)\n",
    "- Fit a dictionary vectorizer\n",
    "- Get a feature matrix from it\n",
    "- What's the dimensionality of this matrix (number of columns)?\n",
    "\n",
    "**Answer:** 515"
   ]
  },
  {
   "cell_type": "code",
   "execution_count": 17,
   "id": "972d3af5-61c0-4775-a26b-0ae8c727db6b",
   "metadata": {},
   "outputs": [
    {
     "data": {
      "text/plain": [
       "PULocationID    int64\n",
       "DOLocationID    int64\n",
       "dtype: object"
      ]
     },
     "execution_count": 17,
     "metadata": {},
     "output_type": "execute_result"
    }
   ],
   "source": [
    "categorical = ['PULocationID', 'DOLocationID']\n",
    "df_jan[categorical].dtypes"
   ]
  },
  {
   "cell_type": "code",
   "execution_count": 18,
   "id": "d3165678-c330-4736-a653-81da85612aea",
   "metadata": {},
   "outputs": [
    {
     "data": {
      "text/plain": [
       "(3009173, 20)"
      ]
     },
     "execution_count": 18,
     "metadata": {},
     "output_type": "execute_result"
    }
   ],
   "source": [
    "# one-hot encoding requires str data type\n",
    "df_jan[categorical] = df_jan[categorical].astype(str)\n",
    "df_jan.shape"
   ]
  },
  {
   "cell_type": "code",
   "execution_count": 19,
   "id": "9c6abb38-ed2c-40bb-99e1-736fd825fa0e",
   "metadata": {},
   "outputs": [
    {
     "data": {
      "text/plain": [
       "[{'PULocationID': '161', 'DOLocationID': '141'},\n",
       " {'PULocationID': '43', 'DOLocationID': '237'},\n",
       " {'PULocationID': '48', 'DOLocationID': '238'},\n",
       " {'PULocationID': '138', 'DOLocationID': '7'},\n",
       " {'PULocationID': '107', 'DOLocationID': '79'},\n",
       " {'PULocationID': '161', 'DOLocationID': '137'},\n",
       " {'PULocationID': '239', 'DOLocationID': '143'},\n",
       " {'PULocationID': '142', 'DOLocationID': '200'},\n",
       " {'PULocationID': '164', 'DOLocationID': '236'},\n",
       " {'PULocationID': '141', 'DOLocationID': '107'}]"
      ]
     },
     "execution_count": 19,
     "metadata": {},
     "output_type": "execute_result"
    }
   ],
   "source": [
    "# turn df to list of dictionaries\n",
    "df_jan[categorical].iloc[:10].to_dict(orient='records')"
   ]
  },
  {
   "cell_type": "code",
   "execution_count": 20,
   "id": "897483c1-c7ed-4c73-9b6a-7506058975a7",
   "metadata": {},
   "outputs": [
    {
     "data": {
      "text/plain": [
       "<3009173x515 sparse matrix of type '<class 'numpy.float64'>'\n",
       "\twith 6018346 stored elements in Compressed Sparse Row format>"
      ]
     },
     "execution_count": 20,
     "metadata": {},
     "output_type": "execute_result"
    }
   ],
   "source": [
    "train_dicts = df_jan[categorical].to_dict(orient='records')\n",
    "\n",
    "dv = DictVectorizer()\n",
    "X_train = dv.fit_transform(train_dicts)\n",
    "X_train"
   ]
  },
  {
   "cell_type": "code",
   "execution_count": 21,
   "id": "e302a111-cbcc-45ec-8792-9d2b9785db86",
   "metadata": {},
   "outputs": [
    {
     "data": {
      "text/plain": [
       "PULocationID    3009173\n",
       "DOLocationID    3009173\n",
       "dtype: int64"
      ]
     },
     "execution_count": 21,
     "metadata": {},
     "output_type": "execute_result"
    }
   ],
   "source": [
    "df_jan[categorical].count()"
   ]
  },
  {
   "cell_type": "code",
   "execution_count": 22,
   "id": "d59b82a3-b9d2-47b3-ae56-eb639b885316",
   "metadata": {},
   "outputs": [
    {
     "data": {
      "text/plain": [
       "PULocationID    255\n",
       "DOLocationID    260\n",
       "dtype: int64"
      ]
     },
     "execution_count": 22,
     "metadata": {},
     "output_type": "execute_result"
    }
   ],
   "source": [
    "# 255 + 260 = 515\n",
    "df_jan[categorical].nunique()"
   ]
  },
  {
   "cell_type": "markdown",
   "id": "bd008162-c87f-47f1-9daa-acf8f0814cdf",
   "metadata": {},
   "source": [
    "## Q5 - training a model, rmse on train\n",
    "Now let's use the feature matrix from the previous step to train a model.\n",
    "\n",
    "Train a plain linear regression model with default parameters.  \n",
    "Calculate the RMSE of the model on the training data.  \n",
    "What's the RMSE on train?  \n",
    "\n",
    "**Answer:** 7.64"
   ]
  },
  {
   "cell_type": "code",
   "execution_count": 23,
   "id": "efaec80a-d2ce-4cbc-a173-179b86657219",
   "metadata": {},
   "outputs": [
    {
     "data": {
      "text/plain": [
       "0     8.433333\n",
       "1     6.316667\n",
       "2    12.750000\n",
       "3     9.616667\n",
       "4    10.833333\n",
       "Name: duration, dtype: float64"
      ]
     },
     "execution_count": 23,
     "metadata": {},
     "output_type": "execute_result"
    }
   ],
   "source": [
    "df_jan['duration'].head()"
   ]
  },
  {
   "cell_type": "code",
   "execution_count": 24,
   "id": "ee53b153-3d57-455c-a4cc-ac55e4442186",
   "metadata": {},
   "outputs": [
    {
     "data": {
      "text/plain": [
       "array([ 8.43333333,  6.31666667, 12.75      , ..., 24.51666667,\n",
       "       13.        , 14.4       ])"
      ]
     },
     "execution_count": 24,
     "metadata": {},
     "output_type": "execute_result"
    }
   ],
   "source": [
    "target = 'duration'\n",
    "y_train = df_jan[target].values\n",
    "y_train"
   ]
  },
  {
   "cell_type": "code",
   "execution_count": 25,
   "id": "89922b4f-0b74-45bf-ac0b-aa8d6d2762e3",
   "metadata": {},
   "outputs": [
    {
     "name": "stderr",
     "output_type": "stream",
     "text": [
      "/usr/local/Caskroom/miniconda/base/envs/mlopszoomcamp/lib/python3.9/site-packages/sklearn/metrics/_regression.py:483: FutureWarning: 'squared' is deprecated in version 1.4 and will be removed in 1.6. To calculate the root mean squared error, use the function'root_mean_squared_error'.\n",
      "  warnings.warn(\n"
     ]
    },
    {
     "data": {
      "text/plain": [
       "7.649261934850555"
      ]
     },
     "execution_count": 25,
     "metadata": {},
     "output_type": "execute_result"
    }
   ],
   "source": [
    "lr = LinearRegression()\n",
    "lr.fit(X_train, y_train)\n",
    "y_pred = lr.predict(X_train)\n",
    "\n",
    "mean_squared_error(y_train, y_pred, squared=False)"
   ]
  },
  {
   "cell_type": "code",
   "execution_count": 26,
   "id": "d12aba51-1d24-4ede-adff-ac9bd89a9942",
   "metadata": {},
   "outputs": [
    {
     "data": {
      "text/plain": [
       "7.649261934850555"
      ]
     },
     "execution_count": 26,
     "metadata": {},
     "output_type": "execute_result"
    }
   ],
   "source": [
    "# double check new function\n",
    "root_mean_squared_error(y_train, y_pred)"
   ]
  },
  {
   "cell_type": "markdown",
   "id": "90cd7c0d-e376-4230-8ce8-c0b15886b3e0",
   "metadata": {},
   "source": [
    "## Q6 - evaluating the model, rmse on validation\n",
    "Now let's apply this model to the validation dataset (February 2023).\n",
    "\n",
    "What's the RMSE on validation?\n",
    "\n",
    "**Answer:** 7.81"
   ]
  },
  {
   "cell_type": "code",
   "execution_count": 27,
   "id": "3dea4b9b-4f35-4a5f-a170-2e241ce2c7e9",
   "metadata": {},
   "outputs": [
    {
     "data": {
      "text/plain": [
       "(2855951, 20)"
      ]
     },
     "execution_count": 27,
     "metadata": {},
     "output_type": "execute_result"
    }
   ],
   "source": [
    "df_feb = read_dataframe('../data/yellow_tripdata_2023-02.parquet')\n",
    "df_feb.shape"
   ]
  },
  {
   "cell_type": "code",
   "execution_count": 28,
   "id": "36d3f302-b76f-4586-a5ee-87fb9c8d1036",
   "metadata": {},
   "outputs": [
    {
     "data": {
      "text/plain": [
       "Index(['VendorID', 'tpep_pickup_datetime', 'tpep_dropoff_datetime',\n",
       "       'passenger_count', 'trip_distance', 'RatecodeID', 'store_and_fwd_flag',\n",
       "       'PULocationID', 'DOLocationID', 'payment_type', 'fare_amount', 'extra',\n",
       "       'mta_tax', 'tip_amount', 'tolls_amount', 'improvement_surcharge',\n",
       "       'total_amount', 'congestion_surcharge', 'Airport_fee', 'duration'],\n",
       "      dtype='object')"
      ]
     },
     "execution_count": 28,
     "metadata": {},
     "output_type": "execute_result"
    }
   ],
   "source": [
    "df_feb.columns"
   ]
  },
  {
   "cell_type": "code",
   "execution_count": 29,
   "id": "381cdefc-b2da-4c0c-8a1e-775b04e7a8ca",
   "metadata": {},
   "outputs": [
    {
     "data": {
      "text/plain": [
       "count    2.855951e+06\n",
       "mean     1.446811e+01\n",
       "std      1.006423e+01\n",
       "min      1.000000e+00\n",
       "50%      1.181667e+01\n",
       "95%      3.521667e+01\n",
       "98%      4.503333e+01\n",
       "99%      5.071667e+01\n",
       "max      6.000000e+01\n",
       "Name: duration, dtype: float64"
      ]
     },
     "execution_count": 29,
     "metadata": {},
     "output_type": "execute_result"
    }
   ],
   "source": [
    "df_feb.duration.describe(percentiles=[0.95, 0.98, 0.99])"
   ]
  },
  {
   "cell_type": "code",
   "execution_count": 30,
   "id": "169778cb-723e-4845-9d66-fc04b8ed0c35",
   "metadata": {},
   "outputs": [
    {
     "name": "stderr",
     "output_type": "stream",
     "text": [
      "/var/folders/jf/vw7y3m5s06g4gmn06dj1m0x80000gn/T/ipykernel_16036/2345825633.py:2: UserWarning: Boolean Series key will be reindexed to match DataFrame index.\n",
      "  df_feb = df_feb[(df_jan.duration >= 1) & (df_feb.duration <= 60)]\n"
     ]
    },
    {
     "data": {
      "text/plain": [
       "(2801664, 20)"
      ]
     },
     "execution_count": 30,
     "metadata": {},
     "output_type": "execute_result"
    }
   ],
   "source": [
    "# df = df[(df.duration >= 1) & (df.duration <= 60)]\n",
    "df_feb = df_feb[(df_jan.duration >= 1) & (df_feb.duration <= 60)]\n",
    "df_feb.shape"
   ]
  },
  {
   "cell_type": "code",
   "execution_count": 31,
   "id": "df8ba69e-9d25-4ccc-8b67-70dbf13740cf",
   "metadata": {},
   "outputs": [
    {
     "data": {
      "text/plain": [
       "98.0991620654556"
      ]
     },
     "execution_count": 31,
     "metadata": {},
     "output_type": "execute_result"
    }
   ],
   "source": [
    "# percentage of data kept\n",
    "(2801664 / 2855951) * 100"
   ]
  },
  {
   "cell_type": "code",
   "execution_count": 32,
   "id": "74b8b87f-ca99-464c-9037-4125ce8ba53c",
   "metadata": {},
   "outputs": [
    {
     "data": {
      "text/plain": [
       "PULocationID    object\n",
       "DOLocationID    object\n",
       "dtype: object"
      ]
     },
     "execution_count": 32,
     "metadata": {},
     "output_type": "execute_result"
    }
   ],
   "source": [
    "df_feb[categorical].dtypes"
   ]
  },
  {
   "cell_type": "code",
   "execution_count": 33,
   "id": "64c1451c-02a5-4685-b1ac-41a308bc56c8",
   "metadata": {},
   "outputs": [
    {
     "data": {
      "text/plain": [
       "<2801664x515 sparse matrix of type '<class 'numpy.float64'>'\n",
       "\twith 5603320 stored elements in Compressed Sparse Row format>"
      ]
     },
     "execution_count": 33,
     "metadata": {},
     "output_type": "execute_result"
    }
   ],
   "source": [
    "val_dicts = df_feb[categorical].to_dict(orient='records')\n",
    "\n",
    "X_val = dv.transform(val_dicts)\n",
    "X_val"
   ]
  },
  {
   "cell_type": "code",
   "execution_count": 34,
   "id": "265b3c41-c028-4f76-b8e5-ed8697cc8395",
   "metadata": {},
   "outputs": [
    {
     "data": {
      "text/plain": [
       "array([ 1.68333333, 32.08333333, 13.3       , ..., 14.        ,\n",
       "        7.        ,  9.8       ])"
      ]
     },
     "execution_count": 34,
     "metadata": {},
     "output_type": "execute_result"
    }
   ],
   "source": [
    "y_val = df_feb[target].values\n",
    "y_val"
   ]
  },
  {
   "cell_type": "code",
   "execution_count": 35,
   "id": "fad60aa7-4604-412f-803b-686ab1c51844",
   "metadata": {},
   "outputs": [
    {
     "data": {
      "text/plain": [
       "7.811286891714771"
      ]
     },
     "execution_count": 35,
     "metadata": {},
     "output_type": "execute_result"
    }
   ],
   "source": [
    "y_pred = lr.predict(X_val)\n",
    "\n",
    "root_mean_squared_error(y_val, y_pred)"
   ]
  }
 ],
 "metadata": {
  "kernelspec": {
   "display_name": "Python 3 (ipykernel)",
   "language": "python",
   "name": "python3"
  },
  "language_info": {
   "codemirror_mode": {
    "name": "ipython",
    "version": 3
   },
   "file_extension": ".py",
   "mimetype": "text/x-python",
   "name": "python",
   "nbconvert_exporter": "python",
   "pygments_lexer": "ipython3",
   "version": "3.9.19"
  }
 },
 "nbformat": 4,
 "nbformat_minor": 5
}
